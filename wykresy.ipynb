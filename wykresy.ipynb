{
  "nbformat": 4,
  "nbformat_minor": 0,
  "metadata": {
    "colab": {
      "provenance": []
    },
    "kernelspec": {
      "name": "python3",
      "display_name": "Python 3"
    },
    "language_info": {
      "name": "python"
    }
  },
  "cells": [
    {
      "cell_type": "code",
      "execution_count": 22,
      "metadata": {
        "colab": {
          "base_uri": "https://localhost:8080/"
        },
        "id": "2XLMYH2P-4Sp",
        "outputId": "06aca6c0-fd1e-468f-9dbb-7345cf1fc73a"
      },
      "outputs": [
        {
          "output_type": "stream",
          "name": "stdout",
          "text": [
            "Drive already mounted at /content/drive; to attempt to forcibly remount, call drive.mount(\"/content/drive\", force_remount=True).\n"
          ]
        },
        {
          "output_type": "stream",
          "name": "stderr",
          "text": [
            "<ipython-input-22-08949fbb9be9>:33: UserWarning: Ignoring `palette` because no `hue` variable has been assigned.\n",
            "  sns.lineplot(data=car_crashes, x=\"abbrev\", y=\"total\", palette=\"viridis\")\n"
          ]
        }
      ],
      "source": [
        "import pandas as pd\n",
        "import seaborn as sns\n",
        "import matplotlib.pyplot as plt\n",
        "import os\n",
        "from google.colab import drive\n",
        "drive.mount('/content/drive')\n",
        "\n",
        "data_folder = '/content/drive/My Drive/Colab'\n",
        "output_folder = '/content/drive/My Drive/Colab/wykresy'\n",
        "os.makedirs(output_folder, exist_ok=True)\n",
        "\n",
        "anscombe = pd.read_csv(os.path.join(data_folder, 'anscombe.csv'))\n",
        "attention = pd.read_csv(os.path.join(data_folder, 'attention.csv'))\n",
        "car_crashes = pd.read_csv(os.path.join(data_folder, 'car_crashes.csv'))\n",
        "diamonds = pd.read_csv(os.path.join(data_folder, 'diamonds.csv'))\n",
        "geyser = pd.read_csv(os.path.join(data_folder, 'geyser.csv'))\n",
        "\n",
        "plt.figure(figsize=(8, 6))\n",
        "sns.scatterplot(data=anscombe, x=\"x\", y=\"y\", hue=\"dataset\")\n",
        "plt.title(\"anscombe\")\n",
        "scatter_plot_path = os.path.join(output_folder, 'anscombe.png')\n",
        "plt.savefig(scatter_plot_path)\n",
        "plt.close()\n",
        "\n",
        "plt.figure(figsize=(8, 6))\n",
        "sns.barplot(data=attention, x=\"subject\", y=\"score\", hue=\"attention\")\n",
        "plt.title(\"atencja\")\n",
        "bar_plot_path = os.path.join(output_folder, 'attention.png')\n",
        "plt.savefig(bar_plot_path)\n",
        "plt.close()\n",
        "\n",
        "plt.figure(figsize=(10, 6))\n",
        "sns.lineplot(data=car_crashes, x=\"abbrev\", y=\"total\", palette=\"viridis\")\n",
        "plt.title(\"wypadki na stan w USA\")\n",
        "line_plot_path = os.path.join(output_folder, 'crashes.png')\n",
        "plt.savefig(line_plot_path)\n",
        "plt.close()\n",
        "\n",
        "plt.figure(figsize=(8, 6))\n",
        "sns.boxplot(data=diamonds, x=\"cut\", y=\"price\")\n",
        "plt.title(\"cena diamentu a jego czytość(?)\")\n",
        "box_plot_path = os.path.join(output_folder, 'diamonds.png')\n",
        "plt.savefig(box_plot_path)\n",
        "plt.close()\n",
        "\n",
        "plt.figure(figsize=(8, 6))\n",
        "sns.boxplot(data=geyser, x=\"waiting\", y=\"duration\")\n",
        "plt.title(\"gejzery , czas trawania wybuchu a oczekiwanie\")\n",
        "box_plot_path = os.path.join(output_folder, 'geyser.png')\n",
        "plt.savefig(box_plot_path)\n",
        "plt.close()\n"
      ]
    }
  ]
}