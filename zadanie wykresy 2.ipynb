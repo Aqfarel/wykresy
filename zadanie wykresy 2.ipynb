{
 "cells": [
  {
   "cell_type": "code",
   "execution_count": 99,
   "metadata": {},
   "outputs": [],
   "source": [
    "import pandas as pd\n",
    "import numpy as np\n",
    "import matplotlib.pyplot as plt\n",
    "import seaborn as sns\n",
    "\n",
    "df = pd.read_csv(\"living-languages.csv\")"
   ]
  },
  {
   "cell_type": "code",
   "execution_count": 100,
   "metadata": {},
   "outputs": [
    {
     "data": {
      "text/plain": [
       "pandas.core.frame.DataFrame"
      ]
     },
     "execution_count": 100,
     "metadata": {},
     "output_type": "execute_result"
    }
   ],
   "source": [
    "type(df)"
   ]
  },
  {
   "cell_type": "code",
   "execution_count": 101,
   "metadata": {},
   "outputs": [
    {
     "data": {
      "text/plain": [
       "(249, 4)"
      ]
     },
     "execution_count": 101,
     "metadata": {},
     "output_type": "execute_result"
    }
   ],
   "source": [
    "df.shape"
   ]
  },
  {
   "cell_type": "code",
   "execution_count": 102,
   "metadata": {},
   "outputs": [
    {
     "data": {
      "text/plain": [
       "array(['Afghanistan', 'Africa', 'Aland Islands', 'Albania', 'Algeria',\n",
       "       'American Samoa', 'Andorra', 'Angola', 'Anguilla',\n",
       "       'Antigua and Barbuda', 'Argentina', 'Armenia', 'Aruba', 'Asia',\n",
       "       'Australia', 'Austria', 'Azerbaijan', 'Bahamas', 'Bahrain',\n",
       "       'Bangladesh', 'Barbados', 'Belarus', 'Belgium', 'Belize', 'Benin',\n",
       "       'Bermuda', 'Bhutan', 'Bolivia', 'Bonaire Sint Eustatius and Saba',\n",
       "       'Bosnia and Herzegovina', 'Botswana', 'Brazil',\n",
       "       'British Indian Ocean Territory', 'British Virgin Islands',\n",
       "       'Brunei', 'Bulgaria', 'Burkina Faso', 'Burundi', 'Cambodia',\n",
       "       'Cameroon', 'Canada', 'Cape Verde', 'Cayman Islands',\n",
       "       'Central African Republic', 'Chad', 'Chile', 'China',\n",
       "       'Christmas Island', 'Cocos Islands', 'Colombia', 'Comoros',\n",
       "       'Congo', 'Cook Islands', 'Costa Rica', \"Cote d'Ivoire\", 'Croatia',\n",
       "       'Cuba', 'Curacao', 'Cyprus', 'Czechia',\n",
       "       'Democratic Republic of Congo', 'Denmark', 'Djibouti', 'Dominica',\n",
       "       'Dominican Republic', 'East Timor', 'Ecuador', 'Egypt',\n",
       "       'El Salvador', 'Equatorial Guinea', 'Eritrea', 'Estonia',\n",
       "       'Eswatini', 'Ethiopia', 'Europe', 'Falkland Islands',\n",
       "       'Faroe Islands', 'Fiji', 'Finland', 'France', 'French Guiana',\n",
       "       'French Polynesia', 'Gabon', 'Gambia', 'Georgia', 'Germany',\n",
       "       'Ghana', 'Gibraltar', 'Greece', 'Greenland', 'Grenada',\n",
       "       'Guadeloupe', 'Guam', 'Guatemala', 'Guernsey', 'Guinea',\n",
       "       'Guinea-Bissau', 'Guyana', 'Haiti', 'Honduras', 'Hong Kong',\n",
       "       'Hungary', 'Iceland', 'India', 'Indonesia', 'Iran', 'Iraq',\n",
       "       'Ireland', 'Isle of Man', 'Israel', 'Italy', 'Jamaica', 'Japan',\n",
       "       'Jersey', 'Jordan', 'Kazakhstan', 'Kenya', 'Kiribati', 'Kuwait',\n",
       "       'Kyrgyzstan', 'Laos', 'Latvia', 'Lebanon', 'Lesotho', 'Liberia',\n",
       "       'Libya', 'Liechtenstein', 'Lithuania', 'Luxembourg', 'Macao',\n",
       "       'Madagascar', 'Malawi', 'Malaysia', 'Maldives', 'Mali', 'Malta',\n",
       "       'Marshall Islands', 'Martinique', 'Mauritania', 'Mauritius',\n",
       "       'Mayotte', 'Mexico', 'Micronesia (country)', 'Moldova', 'Monaco',\n",
       "       'Mongolia', 'Montenegro', 'Montserrat', 'Morocco', 'Mozambique',\n",
       "       'Myanmar', 'Namibia', 'Nauru', 'Nepal', 'Netherlands',\n",
       "       'New Caledonia', 'New Zealand', 'Nicaragua', 'Niger', 'Nigeria',\n",
       "       'Niue', 'Norfolk Island', 'North America', 'North Korea',\n",
       "       'North Macedonia', 'Northern Mariana Islands', 'Norway', 'Oceania',\n",
       "       'Oman', 'Pakistan', 'Palau', 'Palestine', 'Panama',\n",
       "       'Papua New Guinea', 'Paraguay', 'Peru', 'Philippines', 'Pitcairn',\n",
       "       'Poland', 'Portugal', 'Puerto Rico', 'Qatar', 'Reunion', 'Romania',\n",
       "       'Russia', 'Rwanda', 'Saint Barthelemy', 'Saint Helena',\n",
       "       'Saint Kitts and Nevis', 'Saint Lucia',\n",
       "       'Saint Martin (French part)', 'Saint Pierre and Miquelon',\n",
       "       'Saint Vincent and the Grenadines', 'Samoa', 'San Marino',\n",
       "       'Sao Tome and Principe', 'Saudi Arabia', 'Senegal', 'Serbia',\n",
       "       'Seychelles', 'Sierra Leone', 'Singapore',\n",
       "       'Sint Maarten (Dutch part)', 'Slovakia', 'Slovenia',\n",
       "       'Solomon Islands', 'Somalia', 'South Africa', 'South America',\n",
       "       'South Korea', 'South Sudan', 'Spain', 'Sri Lanka', 'Sudan',\n",
       "       'Suriname', 'Sweden', 'Switzerland', 'Syria', 'Taiwan',\n",
       "       'Tajikistan', 'Tanzania', 'Thailand', 'Togo', 'Tokelau', 'Tonga',\n",
       "       'Trinidad and Tobago', 'Tunisia', 'Turkey', 'Turkmenistan',\n",
       "       'Turks and Caicos Islands', 'Tuvalu', 'Uganda', 'Ukraine',\n",
       "       'United Arab Emirates', 'United Kingdom', 'United States',\n",
       "       'United States Virgin Islands', 'Uruguay', 'Uzbekistan', 'Vanuatu',\n",
       "       'Vatican', 'Venezuela', 'Vietnam', 'Wallis and Futuna',\n",
       "       'Western Sahara', 'World', 'Yemen', 'Zambia', 'Zimbabwe'],\n",
       "      dtype=object)"
      ]
     },
     "execution_count": 102,
     "metadata": {},
     "output_type": "execute_result"
    }
   ],
   "source": [
    "df['Entity'].unique()"
   ]
  },
  {
   "cell_type": "code",
   "execution_count": 103,
   "metadata": {},
   "outputs": [
    {
     "data": {
      "text/plain": [
       "Year\n",
       "2024    249\n",
       "Name: count, dtype: int64"
      ]
     },
     "execution_count": 103,
     "metadata": {},
     "output_type": "execute_result"
    }
   ],
   "source": [
    "df['Year'].value_counts()"
   ]
  },
  {
   "cell_type": "code",
   "execution_count": 104,
   "metadata": {},
   "outputs": [
    {
     "data": {
      "text/html": [
       "<div>\n",
       "<style scoped>\n",
       "    .dataframe tbody tr th:only-of-type {\n",
       "        vertical-align: middle;\n",
       "    }\n",
       "\n",
       "    .dataframe tbody tr th {\n",
       "        vertical-align: top;\n",
       "    }\n",
       "\n",
       "    .dataframe thead th {\n",
       "        text-align: right;\n",
       "    }\n",
       "</style>\n",
       "<table border=\"1\" class=\"dataframe\">\n",
       "  <thead>\n",
       "    <tr style=\"text-align: right;\">\n",
       "      <th></th>\n",
       "      <th>Entity</th>\n",
       "      <th>Code</th>\n",
       "      <th>Year</th>\n",
       "      <th>Number of living languages</th>\n",
       "    </tr>\n",
       "  </thead>\n",
       "  <tbody>\n",
       "    <tr>\n",
       "      <th>0</th>\n",
       "      <td>Afghanistan</td>\n",
       "      <td>AFG</td>\n",
       "      <td>2024</td>\n",
       "      <td>42</td>\n",
       "    </tr>\n",
       "    <tr>\n",
       "      <th>1</th>\n",
       "      <td>Africa</td>\n",
       "      <td>NaN</td>\n",
       "      <td>2024</td>\n",
       "      <td>2195</td>\n",
       "    </tr>\n",
       "    <tr>\n",
       "      <th>2</th>\n",
       "      <td>Aland Islands</td>\n",
       "      <td>ALA</td>\n",
       "      <td>2024</td>\n",
       "      <td>3</td>\n",
       "    </tr>\n",
       "    <tr>\n",
       "      <th>3</th>\n",
       "      <td>Albania</td>\n",
       "      <td>ALB</td>\n",
       "      <td>2024</td>\n",
       "      <td>10</td>\n",
       "    </tr>\n",
       "    <tr>\n",
       "      <th>4</th>\n",
       "      <td>Algeria</td>\n",
       "      <td>DZA</td>\n",
       "      <td>2024</td>\n",
       "      <td>20</td>\n",
       "    </tr>\n",
       "  </tbody>\n",
       "</table>\n",
       "</div>"
      ],
      "text/plain": [
       "          Entity Code  Year  Number of living languages\n",
       "0    Afghanistan  AFG  2024                          42\n",
       "1         Africa  NaN  2024                        2195\n",
       "2  Aland Islands  ALA  2024                           3\n",
       "3        Albania  ALB  2024                          10\n",
       "4        Algeria  DZA  2024                          20"
      ]
     },
     "execution_count": 104,
     "metadata": {},
     "output_type": "execute_result"
    }
   ],
   "source": [
    "df.head()"
   ]
  },
  {
   "cell_type": "code",
   "execution_count": 105,
   "metadata": {},
   "outputs": [
    {
     "data": {
      "text/html": [
       "<div>\n",
       "<style scoped>\n",
       "    .dataframe tbody tr th:only-of-type {\n",
       "        vertical-align: middle;\n",
       "    }\n",
       "\n",
       "    .dataframe tbody tr th {\n",
       "        vertical-align: top;\n",
       "    }\n",
       "\n",
       "    .dataframe thead th {\n",
       "        text-align: right;\n",
       "    }\n",
       "</style>\n",
       "<table border=\"1\" class=\"dataframe\">\n",
       "  <thead>\n",
       "    <tr style=\"text-align: right;\">\n",
       "      <th></th>\n",
       "      <th>Entity</th>\n",
       "      <th>Code</th>\n",
       "      <th>Year</th>\n",
       "      <th>Number of living languages</th>\n",
       "    </tr>\n",
       "  </thead>\n",
       "  <tbody>\n",
       "    <tr>\n",
       "      <th>244</th>\n",
       "      <td>Western Sahara</td>\n",
       "      <td>ESH</td>\n",
       "      <td>2024</td>\n",
       "      <td>5</td>\n",
       "    </tr>\n",
       "    <tr>\n",
       "      <th>245</th>\n",
       "      <td>World</td>\n",
       "      <td>OWID_WRL</td>\n",
       "      <td>2024</td>\n",
       "      <td>7164</td>\n",
       "    </tr>\n",
       "    <tr>\n",
       "      <th>246</th>\n",
       "      <td>Yemen</td>\n",
       "      <td>YEM</td>\n",
       "      <td>2024</td>\n",
       "      <td>13</td>\n",
       "    </tr>\n",
       "    <tr>\n",
       "      <th>247</th>\n",
       "      <td>Zambia</td>\n",
       "      <td>ZMB</td>\n",
       "      <td>2024</td>\n",
       "      <td>47</td>\n",
       "    </tr>\n",
       "    <tr>\n",
       "      <th>248</th>\n",
       "      <td>Zimbabwe</td>\n",
       "      <td>ZWE</td>\n",
       "      <td>2024</td>\n",
       "      <td>23</td>\n",
       "    </tr>\n",
       "  </tbody>\n",
       "</table>\n",
       "</div>"
      ],
      "text/plain": [
       "             Entity      Code  Year  Number of living languages\n",
       "244  Western Sahara       ESH  2024                           5\n",
       "245           World  OWID_WRL  2024                        7164\n",
       "246           Yemen       YEM  2024                          13\n",
       "247          Zambia       ZMB  2024                          47\n",
       "248        Zimbabwe       ZWE  2024                          23"
      ]
     },
     "execution_count": 105,
     "metadata": {},
     "output_type": "execute_result"
    }
   ],
   "source": [
    "df.tail()"
   ]
  },
  {
   "cell_type": "code",
   "execution_count": 106,
   "metadata": {},
   "outputs": [
    {
     "data": {
      "text/plain": [
       "Entity                        0\n",
       "Code                          6\n",
       "Year                          0\n",
       "Number of living languages    0\n",
       "dtype: int64"
      ]
     },
     "execution_count": 106,
     "metadata": {},
     "output_type": "execute_result"
    }
   ],
   "source": [
    "df.isnull().sum()"
   ]
  },
  {
   "cell_type": "code",
   "execution_count": 107,
   "metadata": {},
   "outputs": [],
   "source": [
    "df.rename(columns = {'Entity':'Kraje','Code':'Skrót','Year':'Rok','Number of living languages':'Liczba żywych języków'}, inplace=True)"
   ]
  },
  {
   "cell_type": "code",
   "execution_count": 108,
   "metadata": {},
   "outputs": [],
   "source": [
    "df.drop(columns = ['Skrót'],inplace=True)\n",
    "world_value = df.loc[df['Kraje'] == 'World', 'Liczba żywych języków'].values[0]"
   ]
  },
  {
   "cell_type": "code",
   "execution_count": 121,
   "metadata": {},
   "outputs": [
    {
     "data": {
      "text/plain": [
       "Kraje\n",
       "Afghanistan                          0.586265\n",
       "Aland Islands                        0.041876\n",
       "Albania                              0.139587\n",
       "Algeria                              0.279174\n",
       "American Samoa                       0.027917\n",
       "Andorra                              0.069793\n",
       "Angola                               0.656058\n",
       "Anguilla                             0.027917\n",
       "Antigua and Barbuda                  0.027917\n",
       "Argentina                            0.376884\n",
       "Armenia                              0.153546\n",
       "Aruba                                0.069793\n",
       "Australia                            3.126745\n",
       "Austria                              0.237298\n",
       "Azerbaijan                           0.251256\n",
       "Bahamas                              0.041876\n",
       "Bahrain                              0.083752\n",
       "Bangladesh                           0.586265\n",
       "Barbados                             0.041876\n",
       "Belarus                              0.097711\n",
       "Belgium                              0.167504\n",
       "Belize                               0.125628\n",
       "Benin                                0.767728\n",
       "Bermuda                              0.027917\n",
       "Bhutan                               0.321050\n",
       "Bolivia                              0.600223\n",
       "Bonaire Sint Eustatius and Saba      0.083752\n",
       "Bosnia and Herzegovina               0.097711\n",
       "Botswana                             0.404802\n",
       "Brazil                               3.098827\n",
       "British Indian Ocean Territory       0.027917\n",
       "British Virgin Islands               0.041876\n",
       "Brunei                               0.237298\n",
       "Bulgaria                             0.223339\n",
       "Burkina Faso                         0.991066\n",
       "Burundi                              0.069793\n",
       "Cambodia                             0.390843\n",
       "Cameroon                             3.894472\n",
       "Canada                               1.409827\n",
       "Cape Verde                           0.027917\n",
       "Cayman Islands                       0.027917\n",
       "Central African Republic             1.018984\n",
       "Chad                                 1.800670\n",
       "Chile                                0.167504\n",
       "China                                4.271357\n",
       "Christmas Island                     0.041876\n",
       "Cocos Islands                        0.027917\n",
       "Colombia                             1.242323\n",
       "Comoros                              0.097711\n",
       "Congo                                0.865438\n",
       "Cook Islands                         0.069793\n",
       "Costa Rica                           0.195422\n",
       "Cote d'Ivoire                        1.214405\n",
       "Croatia                              0.265215\n",
       "Cuba                                 0.041876\n",
       "Curacao                              0.069793\n",
       "Cyprus                               0.111669\n",
       "Czechia                              0.167504\n",
       "Democratic Republic of Congo         2.987158\n",
       "Denmark                              0.097711\n",
       "Djibouti                             0.069793\n",
       "Dominica                             0.069793\n",
       "Dominican Republic                   0.069793\n",
       "East Timor                           0.307091\n",
       "Ecuador                              0.335008\n",
       "Egypt                                0.279174\n",
       "El Salvador                          0.083752\n",
       "Equatorial Guinea                    0.209380\n",
       "Eritrea                              0.209380\n",
       "Estonia                              0.139587\n",
       "Eswatini                             0.069793\n",
       "Ethiopia                             1.284199\n",
       "Falkland Islands                     0.013959\n",
       "Faroe Islands                        0.041876\n",
       "Fiji                                 0.209380\n",
       "Finland                              0.209380\n",
       "France                               0.502513\n",
       "French Guiana                        0.181463\n",
       "French Polynesia                     0.125628\n",
       "Gabon                                0.614182\n",
       "Gambia                               0.181463\n",
       "Georgia                              0.307091\n",
       "Germany                              0.418760\n",
       "Ghana                                1.158571\n",
       "Gibraltar                            0.041876\n",
       "Greece                               0.321050\n",
       "Greenland                            0.041876\n",
       "Grenada                              0.055835\n",
       "Guadeloupe                           0.041876\n",
       "Guam                                 0.055835\n",
       "Guatemala                            0.376884\n",
       "Guernsey                             0.041876\n",
       "Guinea                               0.516471\n",
       "Guinea-Bissau                        0.362926\n",
       "Guyana                               0.251256\n",
       "Haiti                                0.055835\n",
       "Honduras                             0.139587\n",
       "Hong Kong                            0.097711\n",
       "Hungary                              0.279174\n",
       "Iceland                              0.041876\n",
       "India                                6.323283\n",
       "Indonesia                            9.910664\n",
       "Iran                                 1.102736\n",
       "Iraq                                 0.321050\n",
       "Ireland                              0.125628\n",
       "Isle of Man                          0.041876\n",
       "Israel                               0.530430\n",
       "Italy                                0.502513\n",
       "Jamaica                              0.055835\n",
       "Japan                                0.251256\n",
       "Jersey                               0.041876\n",
       "Jordan                               0.167504\n",
       "Kazakhstan                           0.223339\n",
       "Kenya                                0.949190\n",
       "Kiribati                             0.027917\n",
       "Kuwait                               0.083752\n",
       "Kyrgyzstan                           0.111669\n",
       "Laos                                 1.228364\n",
       "Latvia                               0.153546\n",
       "Lebanon                              0.111669\n",
       "Lesotho                              0.069793\n",
       "Liberia                              0.432719\n",
       "Libya                                0.125628\n",
       "Liechtenstein                        0.055835\n",
       "Lithuania                            0.181463\n",
       "Luxembourg                           0.097711\n",
       "Macao                                0.083752\n",
       "Madagascar                           0.195422\n",
       "Malawi                               0.237298\n",
       "Malaysia                             1.842546\n",
       "Maldives                             0.027917\n",
       "Mali                                 0.963149\n",
       "Malta                                0.083752\n",
       "Marshall Islands                     0.027917\n",
       "Martinique                           0.055835\n",
       "Mauritania                           0.097711\n",
       "Mauritius                            0.125628\n",
       "Mayotte                              0.055835\n",
       "Mexico                               4.089894\n",
       "Micronesia (country)                 0.251256\n",
       "Moldova                              0.167504\n",
       "Monaco                               0.083752\n",
       "Mongolia                             0.181463\n",
       "Montenegro                           0.125628\n",
       "Montserrat                           0.027917\n",
       "Morocco                              0.209380\n",
       "Mozambique                           0.614182\n",
       "Myanmar                              1.702959\n",
       "Namibia                              0.390843\n",
       "Nauru                                0.041876\n",
       "Nepal                                1.716918\n",
       "Netherlands                          0.251256\n",
       "New Caledonia                        0.530430\n",
       "New Zealand                          0.055835\n",
       "Nicaragua                            0.153546\n",
       "Niger                                0.348967\n",
       "Nigeria                              7.398102\n",
       "Niue                                 0.027917\n",
       "Norfolk Island                       0.027917\n",
       "North Korea                          0.027917\n",
       "North Macedonia                      0.195422\n",
       "Northern Mariana Islands             0.055835\n",
       "Norway                               0.167504\n",
       "Oman                                 0.237298\n",
       "Pakistan                             1.074819\n",
       "Palau                                0.055835\n",
       "Palestine                            0.111669\n",
       "Panama                               0.209380\n",
       "Papua New Guinea                    11.725293\n",
       "Paraguay                             0.335008\n",
       "Peru                                 1.326075\n",
       "Philippines                          2.568398\n",
       "Pitcairn                             0.027917\n",
       "Poland                               0.321050\n",
       "Portugal                             0.209380\n",
       "Puerto Rico                          0.055835\n",
       "Qatar                                0.069793\n",
       "Reunion                              0.041876\n",
       "Romania                              0.404802\n",
       "Russia                               1.661083\n",
       "Rwanda                               0.083752\n",
       "Saint Barthelemy                     0.041876\n",
       "Saint Helena                         0.013959\n",
       "Saint Kitts and Nevis                0.041876\n",
       "Saint Lucia                          0.041876\n",
       "Saint Martin (French part)           0.069793\n",
       "Saint Pierre and Miquelon            0.013959\n",
       "Saint Vincent and the Grenadines     0.041876\n",
       "Samoa                                0.027917\n",
       "San Marino                           0.027917\n",
       "Sao Tome and Principe                0.097711\n",
       "Saudi Arabia                         0.153546\n",
       "Senegal                              0.544389\n",
       "Serbia                               0.307091\n",
       "Seychelles                           0.055835\n",
       "Sierra Leone                         0.335008\n",
       "Singapore                            0.335008\n",
       "Sint Maarten (Dutch part)            0.069793\n",
       "Slovakia                             0.181463\n",
       "Slovenia                             0.167504\n",
       "Solomon Islands                      1.005025\n",
       "Somalia                              0.181463\n",
       "South Africa                         0.432719\n",
       "South Korea                          0.055835\n",
       "South Sudan                          1.005025\n",
       "Spain                                0.279174\n",
       "Sri Lanka                            0.097711\n",
       "Sudan                                1.102736\n",
       "Suriname                             0.307091\n",
       "Sweden                               0.251256\n",
       "Switzerland                          0.181463\n",
       "Syria                                0.237298\n",
       "Taiwan                               0.362926\n",
       "Tajikistan                           0.181463\n",
       "Tanzania                             1.786711\n",
       "Thailand                             1.046901\n",
       "Togo                                 0.614182\n",
       "Tokelau                              0.041876\n",
       "Tonga                                0.041876\n",
       "Trinidad and Tobago                  0.097711\n",
       "Tunisia                              0.083752\n",
       "Turkey                               0.614182\n",
       "Turkmenistan                         0.111669\n",
       "Turks and Caicos Islands             0.027917\n",
       "Tuvalu                               0.041876\n",
       "Uganda                               0.614182\n",
       "Ukraine                              0.321050\n",
       "United Arab Emirates                 0.153546\n",
       "United Kingdom                       0.251256\n",
       "United States                        3.294249\n",
       "United States Virgin Islands         0.055835\n",
       "Uruguay                              0.083752\n",
       "Uzbekistan                           0.167504\n",
       "Vanuatu                              1.535455\n",
       "Vatican                              0.027917\n",
       "Venezuela                            0.614182\n",
       "Vietnam                              1.535455\n",
       "Wallis and Futuna                    0.041876\n",
       "Western Sahara                       0.069793\n",
       "Yemen                                0.181463\n",
       "Zambia                               0.656058\n",
       "Zimbabwe                             0.321050\n",
       "Name: %, dtype: float64"
      ]
     },
     "execution_count": 121,
     "metadata": {},
     "output_type": "execute_result"
    }
   ],
   "source": [
    "df1 = df[df['Kraje'].str.contains(r'\\w+',na=False)]\n",
    "df1['%'] = (df1['Liczba żywych języków'] / world_value) * 100\n",
    "pd.set_option('display.max_rows',None)\n",
    "vanish = df[df['Kraje'].isin(['Africa', 'Asia', 'Europe', 'North America', 'South America', 'Oceania', 'Antarctica', 'World'])].index\n",
    "df1.drop(index=vanish, inplace=True)\n",
    "df1.groupby('Kraje')['%'].max()"
   ]
  },
  {
   "cell_type": "code",
   "execution_count": 130,
   "metadata": {},
   "outputs": [
    {
     "data": {
      "image/png": "[encoded data removed]",
      "text/plain": [
       "<Figure size 1000x600 with 1 Axes>"
      ]
     },
     "metadata": {},
     "output_type": "display_data"
    },
    {
     "data": {
      "text/plain": [
       "<Figure size 640x480 with 0 Axes>"
      ]
     },
     "metadata": {},
     "output_type": "display_data"
    }
   ],
   "source": [
    "plt.figure(figsize=(10, 6))\n",
    "plt.plot(df1['Kraje'], df1['%'], marker='o', color='black', linestyle='None',markersize = 4)\n",
    "plt.title('Procentowy udział w językach świata', fontsize=16)\n",
    "plt.xlabel('Kraj', fontsize=14)\n",
    "plt.ylabel('%', fontsize=14)\n",
    "plt.grid(True)  \n",
    "plt.xticks(rotation=90,fontsize=3)  \n",
    "plt.show()\n",
    "plt.savefig('Procentowy udział w językach świata.png')"
   ]
  },
  {
   "cell_type": "code",
   "execution_count": 110,
   "metadata": {},
   "outputs": [
    {
     "data": {
      "text/html": [
       "<div>\n",
       "<style scoped>\n",
       "    .dataframe tbody tr th:only-of-type {\n",
       "        vertical-align: middle;\n",
       "    }\n",
       "\n",
       "    .dataframe tbody tr th {\n",
       "        vertical-align: top;\n",
       "    }\n",
       "\n",
       "    .dataframe thead th {\n",
       "        text-align: right;\n",
       "    }\n",
       "</style>\n",
       "<table border=\"1\" class=\"dataframe\">\n",
       "  <thead>\n",
       "    <tr style=\"text-align: right;\">\n",
       "      <th></th>\n",
       "      <th>Kraje</th>\n",
       "      <th>Rok</th>\n",
       "      <th>Liczba żywych języków</th>\n",
       "    </tr>\n",
       "  </thead>\n",
       "  <tbody>\n",
       "    <tr>\n",
       "      <th>78</th>\n",
       "      <td>Finland</td>\n",
       "      <td>2024</td>\n",
       "      <td>15</td>\n",
       "    </tr>\n",
       "    <tr>\n",
       "      <th>79</th>\n",
       "      <td>France</td>\n",
       "      <td>2024</td>\n",
       "      <td>36</td>\n",
       "    </tr>\n",
       "    <tr>\n",
       "      <th>85</th>\n",
       "      <td>Germany</td>\n",
       "      <td>2024</td>\n",
       "      <td>30</td>\n",
       "    </tr>\n",
       "    <tr>\n",
       "      <th>101</th>\n",
       "      <td>Hungary</td>\n",
       "      <td>2024</td>\n",
       "      <td>20</td>\n",
       "    </tr>\n",
       "    <tr>\n",
       "      <th>110</th>\n",
       "      <td>Italy</td>\n",
       "      <td>2024</td>\n",
       "      <td>36</td>\n",
       "    </tr>\n",
       "    <tr>\n",
       "      <th>178</th>\n",
       "      <td>Poland</td>\n",
       "      <td>2024</td>\n",
       "      <td>23</td>\n",
       "    </tr>\n",
       "    <tr>\n",
       "      <th>184</th>\n",
       "      <td>Russia</td>\n",
       "      <td>2024</td>\n",
       "      <td>119</td>\n",
       "    </tr>\n",
       "    <tr>\n",
       "      <th>211</th>\n",
       "      <td>Spain</td>\n",
       "      <td>2024</td>\n",
       "      <td>20</td>\n",
       "    </tr>\n",
       "  </tbody>\n",
       "</table>\n",
       "</div>"
      ],
      "text/plain": [
       "       Kraje   Rok  Liczba żywych języków\n",
       "78   Finland  2024                     15\n",
       "79    France  2024                     36\n",
       "85   Germany  2024                     30\n",
       "101  Hungary  2024                     20\n",
       "110    Italy  2024                     36\n",
       "178   Poland  2024                     23\n",
       "184   Russia  2024                    119\n",
       "211    Spain  2024                     20"
      ]
     },
     "execution_count": 110,
     "metadata": {},
     "output_type": "execute_result"
    }
   ],
   "source": [
    "kraje = ['Poland','Germany', 'Spain', 'France', 'Italy', 'England', 'Russia', 'Hungary', 'Finland']\n",
    "Europa = df[df['Kraje'].isin(kraje)]\n",
    "Europa"
   ]
  },
  {
   "cell_type": "code",
   "execution_count": 133,
   "metadata": {},
   "outputs": [
    {
     "data": {
      "image/png": "[encoded data removed]",
      "text/plain": [
       "<Figure size 1000x600 with 1 Axes>"
      ]
     },
     "metadata": {},
     "output_type": "display_data"
    },
    {
     "data": {
      "text/plain": [
       "<Figure size 640x480 with 0 Axes>"
      ]
     },
     "metadata": {},
     "output_type": "display_data"
    }
   ],
   "source": [
    "plt.figure(figsize=(10, 6))\n",
    "plt.bar(Europa['Kraje'], Europa['Liczba żywych języków'], color='blue')\n",
    "plt.title('Porównanie wybranych krajów Europy', fontsize=16)\n",
    "plt.xlabel('Kraj', fontsize=14)\n",
    "plt.ylabel('Ilość', fontsize=14)\n",
    "plt.grid(False)  \n",
    "plt.xticks(rotation=45,fontsize=6)  \n",
    "plt.show()\n",
    "plt.savefig('Porównanie wybranych krajów Europy.png')"
   ]
  },
  {
   "cell_type": "code",
   "execution_count": 137,
   "metadata": {},
   "outputs": [
    {
     "data": {
      "text/html": [
       "<div>\n",
       "<style scoped>\n",
       "    .dataframe tbody tr th:only-of-type {\n",
       "        vertical-align: middle;\n",
       "    }\n",
       "\n",
       "    .dataframe tbody tr th {\n",
       "        vertical-align: top;\n",
       "    }\n",
       "\n",
       "    .dataframe thead th {\n",
       "        text-align: right;\n",
       "    }\n",
       "</style>\n",
       "<table border=\"1\" class=\"dataframe\">\n",
       "  <thead>\n",
       "    <tr style=\"text-align: right;\">\n",
       "      <th></th>\n",
       "      <th>Kraje</th>\n",
       "      <th>Rok</th>\n",
       "      <th>Liczba żywych języków</th>\n",
       "    </tr>\n",
       "  </thead>\n",
       "  <tbody>\n",
       "    <tr>\n",
       "      <th>1</th>\n",
       "      <td>Africa</td>\n",
       "      <td>2024</td>\n",
       "      <td>2195</td>\n",
       "    </tr>\n",
       "    <tr>\n",
       "      <th>13</th>\n",
       "      <td>Asia</td>\n",
       "      <td>2024</td>\n",
       "      <td>2368</td>\n",
       "    </tr>\n",
       "    <tr>\n",
       "      <th>74</th>\n",
       "      <td>Europe</td>\n",
       "      <td>2024</td>\n",
       "      <td>329</td>\n",
       "    </tr>\n",
       "    <tr>\n",
       "      <th>162</th>\n",
       "      <td>North America</td>\n",
       "      <td>2024</td>\n",
       "      <td>652</td>\n",
       "    </tr>\n",
       "    <tr>\n",
       "      <th>167</th>\n",
       "      <td>Oceania</td>\n",
       "      <td>2024</td>\n",
       "      <td>1339</td>\n",
       "    </tr>\n",
       "    <tr>\n",
       "      <th>208</th>\n",
       "      <td>South America</td>\n",
       "      <td>2024</td>\n",
       "      <td>484</td>\n",
       "    </tr>\n",
       "  </tbody>\n",
       "</table>\n",
       "</div>"
      ],
      "text/plain": [
       "             Kraje   Rok  Liczba żywych języków\n",
       "1           Africa  2024                   2195\n",
       "13            Asia  2024                   2368\n",
       "74          Europe  2024                    329\n",
       "162  North America  2024                    652\n",
       "167        Oceania  2024                   1339\n",
       "208  South America  2024                    484"
      ]
     },
     "execution_count": 137,
     "metadata": {},
     "output_type": "execute_result"
    }
   ],
   "source": [
    "kontynety = ['Africa', 'Asia', 'Europe', 'North America', 'South America', 'Oceania', 'Antarctica']\n",
    "dfk = df[df['Kraje'].isin(kontynety)]\n",
    "dfk"
   ]
  },
  {
   "cell_type": "code",
   "execution_count": 138,
   "metadata": {},
   "outputs": [
    {
     "data": {
      "image/png": "[encoded data removed]",
      "text/plain": [
       "<Figure size 1000x600 with 1 Axes>"
      ]
     },
     "metadata": {},
     "output_type": "display_data"
    },
    {
     "data": {
      "text/plain": [
       "<Figure size 640x480 with 0 Axes>"
      ]
     },
     "metadata": {},
     "output_type": "display_data"
    }
   ],
   "source": [
    "plt.figure(figsize=(10, 6))\n",
    "plt.bar(dfk['Kraje'], dfk['Liczba żywych języków'], color='red')\n",
    "plt.title('Porównanie Kontynentów', fontsize=16)\n",
    "plt.xlabel('Kraj', fontsize=14)\n",
    "plt.ylabel('Ilość', fontsize=14)\n",
    "plt.grid(False)  \n",
    "plt.xticks(rotation=45,fontsize=6)  \n",
    "plt.show()\n",
    "plt.savefig('Porównanie Kontynentów.png')"
   ]
  },
  {
   "cell_type": "code",
   "execution_count": 140,
   "metadata": {},
   "outputs": [],
   "source": [
    "kontynety = ['Africa', 'Asia', 'Europe', 'North America', 'South America', 'Oceania', 'Antarctica', 'World']\n",
    "df25 = df[df['Kraje'].isin(kontynety) == False]"
   ]
  },
  {
   "cell_type": "code",
   "execution_count": 142,
   "metadata": {},
   "outputs": [
    {
     "data": {
      "text/html": [
       "<div>\n",
       "<style scoped>\n",
       "    .dataframe tbody tr th:only-of-type {\n",
       "        vertical-align: middle;\n",
       "    }\n",
       "\n",
       "    .dataframe tbody tr th {\n",
       "        vertical-align: top;\n",
       "    }\n",
       "\n",
       "    .dataframe thead th {\n",
       "        text-align: right;\n",
       "    }\n",
       "</style>\n",
       "<table border=\"1\" class=\"dataframe\">\n",
       "  <thead>\n",
       "    <tr style=\"text-align: right;\">\n",
       "      <th></th>\n",
       "      <th>Kraje</th>\n",
       "      <th>Rok</th>\n",
       "      <th>Liczba żywych języków</th>\n",
       "    </tr>\n",
       "  </thead>\n",
       "  <tbody>\n",
       "    <tr>\n",
       "      <th>173</th>\n",
       "      <td>Papua New Guinea</td>\n",
       "      <td>2024</td>\n",
       "      <td>840</td>\n",
       "    </tr>\n",
       "    <tr>\n",
       "      <th>104</th>\n",
       "      <td>Indonesia</td>\n",
       "      <td>2024</td>\n",
       "      <td>710</td>\n",
       "    </tr>\n",
       "    <tr>\n",
       "      <th>159</th>\n",
       "      <td>Nigeria</td>\n",
       "      <td>2024</td>\n",
       "      <td>530</td>\n",
       "    </tr>\n",
       "    <tr>\n",
       "      <th>103</th>\n",
       "      <td>India</td>\n",
       "      <td>2024</td>\n",
       "      <td>453</td>\n",
       "    </tr>\n",
       "    <tr>\n",
       "      <th>46</th>\n",
       "      <td>China</td>\n",
       "      <td>2024</td>\n",
       "      <td>306</td>\n",
       "    </tr>\n",
       "    <tr>\n",
       "      <th>141</th>\n",
       "      <td>Mexico</td>\n",
       "      <td>2024</td>\n",
       "      <td>293</td>\n",
       "    </tr>\n",
       "    <tr>\n",
       "      <th>39</th>\n",
       "      <td>Cameroon</td>\n",
       "      <td>2024</td>\n",
       "      <td>279</td>\n",
       "    </tr>\n",
       "    <tr>\n",
       "      <th>235</th>\n",
       "      <td>United States</td>\n",
       "      <td>2024</td>\n",
       "      <td>236</td>\n",
       "    </tr>\n",
       "    <tr>\n",
       "      <th>14</th>\n",
       "      <td>Australia</td>\n",
       "      <td>2024</td>\n",
       "      <td>224</td>\n",
       "    </tr>\n",
       "    <tr>\n",
       "      <th>31</th>\n",
       "      <td>Brazil</td>\n",
       "      <td>2024</td>\n",
       "      <td>222</td>\n",
       "    </tr>\n",
       "  </tbody>\n",
       "</table>\n",
       "</div>"
      ],
      "text/plain": [
       "                Kraje   Rok  Liczba żywych języków\n",
       "173  Papua New Guinea  2024                    840\n",
       "104         Indonesia  2024                    710\n",
       "159           Nigeria  2024                    530\n",
       "103             India  2024                    453\n",
       "46              China  2024                    306\n",
       "141            Mexico  2024                    293\n",
       "39           Cameroon  2024                    279\n",
       "235     United States  2024                    236\n",
       "14          Australia  2024                    224\n",
       "31             Brazil  2024                    222"
      ]
     },
     "execution_count": 142,
     "metadata": {},
     "output_type": "execute_result"
    }
   ],
   "source": [
    "top = df25.nlargest(10, 'Liczba żywych języków')\n",
    "top"
   ]
  },
  {
   "cell_type": "code",
   "execution_count": 143,
   "metadata": {},
   "outputs": [
    {
     "data": {
      "image/png": "[encoded data removed]",
      "text/plain": [
       "<Figure size 1000x600 with 1 Axes>"
      ]
     },
     "metadata": {},
     "output_type": "display_data"
    },
    {
     "data": {
      "text/plain": [
       "<Figure size 640x480 with 0 Axes>"
      ]
     },
     "metadata": {},
     "output_type": "display_data"
    }
   ],
   "source": [
    "plt.figure(figsize=(10, 6))\n",
    "plt.bar(top['Kraje'], top['Liczba żywych języków'], color='orange')\n",
    "plt.title('TOP10', fontsize=16)\n",
    "plt.xlabel('Kraj', fontsize=14)\n",
    "plt.ylabel('Ilość', fontsize=14)\n",
    "plt.grid(False)  \n",
    "plt.xticks(rotation=45,fontsize=6)  \n",
    "plt.show()\n",
    "plt.savefig('TOP10.png')"
   ]
  },
  {
   "cell_type": "code",
   "execution_count": 145,
   "metadata": {},
   "outputs": [
    {
     "data": {
      "text/html": [
       "<div>\n",
       "<style scoped>\n",
       "    .dataframe tbody tr th:only-of-type {\n",
       "        vertical-align: middle;\n",
       "    }\n",
       "\n",
       "    .dataframe tbody tr th {\n",
       "        vertical-align: top;\n",
       "    }\n",
       "\n",
       "    .dataframe thead th {\n",
       "        text-align: right;\n",
       "    }\n",
       "</style>\n",
       "<table border=\"1\" class=\"dataframe\">\n",
       "  <thead>\n",
       "    <tr style=\"text-align: right;\">\n",
       "      <th></th>\n",
       "      <th>Kraje</th>\n",
       "      <th>Rok</th>\n",
       "      <th>Liczba żywych języków</th>\n",
       "    </tr>\n",
       "  </thead>\n",
       "  <tbody>\n",
       "    <tr>\n",
       "      <th>75</th>\n",
       "      <td>Falkland Islands</td>\n",
       "      <td>2024</td>\n",
       "      <td>1</td>\n",
       "    </tr>\n",
       "    <tr>\n",
       "      <th>187</th>\n",
       "      <td>Saint Helena</td>\n",
       "      <td>2024</td>\n",
       "      <td>1</td>\n",
       "    </tr>\n",
       "    <tr>\n",
       "      <th>191</th>\n",
       "      <td>Saint Pierre and Miquelon</td>\n",
       "      <td>2024</td>\n",
       "      <td>1</td>\n",
       "    </tr>\n",
       "    <tr>\n",
       "      <th>5</th>\n",
       "      <td>American Samoa</td>\n",
       "      <td>2024</td>\n",
       "      <td>2</td>\n",
       "    </tr>\n",
       "    <tr>\n",
       "      <th>8</th>\n",
       "      <td>Anguilla</td>\n",
       "      <td>2024</td>\n",
       "      <td>2</td>\n",
       "    </tr>\n",
       "    <tr>\n",
       "      <th>9</th>\n",
       "      <td>Antigua and Barbuda</td>\n",
       "      <td>2024</td>\n",
       "      <td>2</td>\n",
       "    </tr>\n",
       "    <tr>\n",
       "      <th>25</th>\n",
       "      <td>Bermuda</td>\n",
       "      <td>2024</td>\n",
       "      <td>2</td>\n",
       "    </tr>\n",
       "    <tr>\n",
       "      <th>32</th>\n",
       "      <td>British Indian Ocean Territory</td>\n",
       "      <td>2024</td>\n",
       "      <td>2</td>\n",
       "    </tr>\n",
       "    <tr>\n",
       "      <th>41</th>\n",
       "      <td>Cape Verde</td>\n",
       "      <td>2024</td>\n",
       "      <td>2</td>\n",
       "    </tr>\n",
       "    <tr>\n",
       "      <th>42</th>\n",
       "      <td>Cayman Islands</td>\n",
       "      <td>2024</td>\n",
       "      <td>2</td>\n",
       "    </tr>\n",
       "  </tbody>\n",
       "</table>\n",
       "</div>"
      ],
      "text/plain": [
       "                              Kraje   Rok  Liczba żywych języków\n",
       "75                 Falkland Islands  2024                      1\n",
       "187                    Saint Helena  2024                      1\n",
       "191       Saint Pierre and Miquelon  2024                      1\n",
       "5                    American Samoa  2024                      2\n",
       "8                          Anguilla  2024                      2\n",
       "9               Antigua and Barbuda  2024                      2\n",
       "25                          Bermuda  2024                      2\n",
       "32   British Indian Ocean Territory  2024                      2\n",
       "41                       Cape Verde  2024                      2\n",
       "42                   Cayman Islands  2024                      2"
      ]
     },
     "execution_count": 145,
     "metadata": {},
     "output_type": "execute_result"
    }
   ],
   "source": [
    "\n",
    "bot = df25.nsmallest(10, 'Liczba żywych języków')\n",
    "bot"
   ]
  },
  {
   "cell_type": "code",
   "execution_count": 146,
   "metadata": {},
   "outputs": [
    {
     "data": {
      "image/png": "[encoded data removed]",
      "text/plain": [
       "<Figure size 1000x600 with 1 Axes>"
      ]
     },
     "metadata": {},
     "output_type": "display_data"
    },
    {
     "data": {
      "text/plain": [
       "<Figure size 640x480 with 0 Axes>"
      ]
     },
     "metadata": {},
     "output_type": "display_data"
    }
   ],
   "source": [
    "plt.figure(figsize=(10, 6))\n",
    "plt.bar(bot['Kraje'], bot['Liczba żywych języków'], color='pink')\n",
    "plt.title('BOT10', fontsize=16)\n",
    "plt.xlabel('Kraj', fontsize=14)\n",
    "plt.ylabel('Ilość', fontsize=14)\n",
    "plt.grid(False)  \n",
    "plt.xticks(rotation=45,fontsize=6)  \n",
    "plt.show()\n",
    "plt.savefig('BOT10.png')"
   ]
  }
 ],
 "metadata": {
  "kernelspec": {
   "display_name": "base",
   "language": "python",
   "name": "python3"
  },
  "language_info": {
   "codemirror_mode": {
    "name": "ipython",
    "version": 3
   },
   "file_extension": ".py",
   "mimetype": "text/x-python",
   "name": "python",
   "nbconvert_exporter": "python",
   "pygments_lexer": "ipython3",
   "version": "3.12.3"
  }
 },
 "nbformat": 4,
 "nbformat_minor": 2
}
